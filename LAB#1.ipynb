{
 "cells": [
  {
   "cell_type": "markdown",
   "id": "5f62b50d",
   "metadata": {},
   "source": [
    "EX#1 Fie f : (0,∞) −→ R, f(x) = (rad(x+1) - rad(x))x \n",
    "(a) Scrieți un program în Python care calculează f(500) conform definiției funcției f.\n",
    "(b) Determinați un algoritm de calcul cu o acuratețe mare pentru f(x), unde x > 0 este\n",
    "un număr suficient de mare, și recalculați f(500)."
   ]
  },
  {
   "cell_type": "code",
   "execution_count": 10,
   "id": "643b52db",
   "metadata": {},
   "outputs": [
    {
     "name": "stdout",
     "output_type": "stream",
     "text": [
      "11.174755300746853\n",
      "11.174755300747199\n"
     ]
    }
   ],
   "source": [
    "#(a)\n",
    "def f(x):\n",
    "    return (((x+1)**0.5 - x**0.5)*x)\n",
    "\n",
    "print(f(500))\n",
    "\n",
    "#(b)\n",
    "def f_acc(x):\n",
    "    return (x/((x+1)**0.5 + x**0.5))\n",
    "\n",
    "print(f_acc(500))"
   ]
  },
  {
   "cell_type": "markdown",
   "id": "e8c2a28e",
   "metadata": {},
   "source": [
    "EX#2 Scrieți un program în Python care evaluează, cu o precizie cât mai mare, expresia\n",
    "f(x) = x^3 − 6,1 x^2 + 3,2 x + 1,5\n",
    "pentru x = 4,71."
   ]
  },
  {
   "cell_type": "code",
   "execution_count": 13,
   "id": "2f352f2a",
   "metadata": {},
   "outputs": [
    {
     "name": "stdout",
     "output_type": "stream",
     "text": [
      "-14.26389899999999\n"
     ]
    }
   ],
   "source": [
    "def f(x):\n",
    "    return x*(x*(x-6.1) + 3.2) + 1.5\n",
    "\n",
    "print(f(4.71))"
   ]
  },
  {
   "cell_type": "markdown",
   "id": "7b2da500",
   "metadata": {},
   "source": [
    "EX#3 Fie ecuația de gradul doi\n",
    "a x^2 + b x + c = 0 , (1) unde a, b, c ∈ R și a != 0.\n",
    "(a) Scrieți un program în Python care calculează și afișează rădăcinile reale ale ecuației (1),\n",
    "respectiv un mesaj corespunzător în cazul în care nu există rădăcini reale.\n",
    "(b) Calculați rădăcinile reale ale ecuației (1) pentru a = 1, b = 100,0001 și c = 0,01.\n",
    "Ce observați?\n",
    "(c) Determinați un algoritm de calcul cu o acuratețe mare a rădăcinilor reale ale\n",
    "ecuației (1) și recalculați-le pentru a = 1, b = 100,0001 și c = 0,01."
   ]
  },
  {
   "cell_type": "code",
   "execution_count": 24,
   "id": "7cbd4d6e",
   "metadata": {},
   "outputs": [
    {
     "name": "stdout",
     "output_type": "stream",
     "text": [
      "b) x1 = -0.00010000000000331966 si x2 = -100.00000000000000000000\n",
      "\n",
      "c) x1 = -0.00010000000000000000 si x2 = -100.00000000000000000000\n"
     ]
    }
   ],
   "source": [
    "#(a)\n",
    "def ec_grad2(a, b, c):\n",
    "    assert a != 0, \"ecuatia nu este de gradul 2\"\n",
    "    delta = b**2 - 4*a*c\n",
    "    if delta < 0:\n",
    "        print(\"nu avem solutii reale\")\n",
    "    elif delta == 0:\n",
    "            x = -b/2*a\n",
    "            print(\"a) x= {:.20f}\".format(x))\n",
    "    else:\n",
    "        x1 = (-b+delta**0.5)/2*a\n",
    "        x2 = (-b-delta**0.5)/2*a\n",
    "        print(\"b) x1 = {:.20f} si x2 = {:.20f}\\n\".format(x1,x2))\n",
    "        \n",
    "#(b)        \n",
    "ec_grad2(1,100.0001,0.01)\n",
    "\n",
    "#(c)\n",
    "def ec_grad2_accurate_sper(a, b, c):\n",
    "    assert a != 0, print(\"ecuatia nu este de gradul 2\")\n",
    "    delta = b**2 - 4*a*c\n",
    "    if delta < 0:\n",
    "        print(\"nu avem solutii reale\")\n",
    "    elif delta == 0:\n",
    "        x = -b/2*a\n",
    "        print(\"c) x = {:.20f}\".format(x))\n",
    "    else:\n",
    "        x1 = -2*c/(b + delta**0.5)\n",
    "        x2 = -(delta**0.5 + b)/2*a\n",
    "        print(\"c) x1 = {:.20f} si x2 = {:.20f}\".format(x1,x2))\n",
    "\n",
    "ec_grad2_accurate_sper(1, 100.0001, 0.01)"
   ]
  },
  {
   "cell_type": "markdown",
   "id": "20b1fb34",
   "metadata": {},
   "source": [
    "EX#4 Soldul S al unui cont de economii după timpul t (măsurat în ani) de investiție a capitalului C, cu o rată anuală a dobânzii d și o dobândă calculată în n tranșe anuale, este calculat cu formula: ... \n",
    "\n",
    "Scrieți un program în Python care:\n",
    "(a) calculează soldul unui cont de economii după 17 ani de investiție a sumei de 5.000 USD\n",
    "cu o rată anuală a dobânzii de 8, 5% și o dobândă calculată într-o singură tranșă anuală;\n",
    "(b) calculează t pentru soldul obținut la (a) și investiția aceluiași capital cu o rată anuală\n",
    "a dobânzii de 8,5% și o dobândă calculată lunar;\n",
    "(c) determină numărul de ani și de luni corespunzătoare lui t obținut la (b)."
   ]
  },
  {
   "cell_type": "code",
   "execution_count": 19,
   "id": "5b0d4c67",
   "metadata": {},
   "outputs": [
    {
     "name": "stdout",
     "output_type": "stream",
     "text": [
      "a) Soldul calculat este 20011.31155260091327363625 USD\n",
      "b) t-ul căutat este 16.37371524376033349313\n"
     ]
    }
   ],
   "source": [
    "import math\n",
    "#(a)\n",
    "def s(c, t, d, n):\n",
    "    sold = c*(((n + d)/n)**(n*t))\n",
    "    print(\"a) Soldul calculat este {:.20f} USD\".format(sold))\n",
    "\n",
    "s(5000, 17, 0.085, 1)\n",
    "\n",
    "#(b)\n",
    "def t(s, c, d, n):\n",
    "    t = (math.log(s/c, (n+d)/n)/n)\n",
    "    print(\"b) t-ul căutat este {:.20f}\".format(t))\n",
    "\n",
    "t(20011.31155260091327363625, 5000, 0.085, 12)\n",
    "\n",
    "#(c)\n",
    "#???"
   ]
  }
 ],
 "metadata": {
  "kernelspec": {
   "display_name": "Python 3",
   "language": "python",
   "name": "python3"
  },
  "language_info": {
   "codemirror_mode": {
    "name": "ipython",
    "version": 3
   },
   "file_extension": ".py",
   "mimetype": "text/x-python",
   "name": "python",
   "nbconvert_exporter": "python",
   "pygments_lexer": "ipython3",
   "version": "3.8.8"
  }
 },
 "nbformat": 4,
 "nbformat_minor": 5
}
