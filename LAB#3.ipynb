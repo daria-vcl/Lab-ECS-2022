{
 "cells": [
  {
   "cell_type": "markdown",
   "id": "42a413e8",
   "metadata": {},
   "source": [
    "EX#1 Fie p, q ∈ R și ecuația de gradul doi\n",
    "x^2 + p x + q = 0 . (1)\n",
    "(a) Scrieți, la alegere, un program sau o funcție în Python care determină și afișează\n",
    "un mesaj corespunzător dacă ecuația de gradul doi (1) are soluții reale, numărul\n",
    "acestor soluții reale și valorile soluțiilor respective în cazul în care acestea există.\n",
    "(b) Testați programul pentru p = 4 și q = 5, i.e. nu există soluții reale.\n",
    "(c) Testați programul pentru p = −4 și q = 4, i.e. x1 = x2 = 2.\n",
    "(d) Testați programul pentru p = 1 și q = −6, i.e. x1 = −3 și x2 = 2.\n",
    "(e) Testați programul pentru p = −109 + 2 × 10^(−9) și q = −2, i.e. x1 = −2 × 10^(−9)\n",
    "și x2 = 10^9.\n",
    "(f) Testați programul pentru p = 10200 − 1 și q = −10200, i.e. x1 = −10200 și x2 = 1"
   ]
  },
  {
   "cell_type": "code",
   "execution_count": 14,
   "id": "457acef7",
   "metadata": {},
   "outputs": [
    {
     "name": "stdout",
     "output_type": "stream",
     "text": [
      "Nu avem soluții reale\n",
      "x1 = x2 = 2.00000000000000000000\n",
      "x1 = 2.00000000000000000000 si x2 = -3.00000000000000000000\n"
     ]
    },
    {
     "ename": "ZeroDivisionError",
     "evalue": "float division by zero",
     "output_type": "error",
     "traceback": [
      "\u001b[1;31m---------------------------------------------------------------------------\u001b[0m",
      "\u001b[1;31mZeroDivisionError\u001b[0m                         Traceback (most recent call last)",
      "\u001b[1;32m<ipython-input-14-14007916f521>\u001b[0m in \u001b[0;36m<module>\u001b[1;34m\u001b[0m\n\u001b[0;32m     22\u001b[0m \u001b[1;33m\u001b[0m\u001b[0m\n\u001b[0;32m     23\u001b[0m \u001b[1;31m#(e)\u001b[0m\u001b[1;33m\u001b[0m\u001b[1;33m\u001b[0m\u001b[1;33m\u001b[0m\u001b[0m\n\u001b[1;32m---> 24\u001b[1;33m \u001b[0mec_grad2\u001b[0m\u001b[1;33m(\u001b[0m\u001b[0mp1\u001b[0m\u001b[1;33m,\u001b[0m\u001b[1;33m-\u001b[0m\u001b[1;36m2\u001b[0m\u001b[1;33m)\u001b[0m\u001b[1;33m\u001b[0m\u001b[1;33m\u001b[0m\u001b[0m\n\u001b[0m\u001b[0;32m     25\u001b[0m \u001b[1;33m\u001b[0m\u001b[0m\n\u001b[0;32m     26\u001b[0m \u001b[1;31m#(f)\u001b[0m\u001b[1;33m\u001b[0m\u001b[1;33m\u001b[0m\u001b[1;33m\u001b[0m\u001b[0m\n",
      "\u001b[1;32m<ipython-input-14-14007916f521>\u001b[0m in \u001b[0;36mec_grad2\u001b[1;34m(p, q)\u001b[0m\n\u001b[0;32m      9\u001b[0m         \u001b[0mprint\u001b[0m\u001b[1;33m(\u001b[0m\u001b[1;34m\"x1 = x2 = {:.20f}\"\u001b[0m\u001b[1;33m.\u001b[0m\u001b[0mformat\u001b[0m\u001b[1;33m(\u001b[0m\u001b[0mx\u001b[0m\u001b[1;33m)\u001b[0m\u001b[1;33m)\u001b[0m\u001b[1;33m\u001b[0m\u001b[1;33m\u001b[0m\u001b[0m\n\u001b[0;32m     10\u001b[0m     \u001b[1;32melse\u001b[0m\u001b[1;33m:\u001b[0m\u001b[1;33m\u001b[0m\u001b[1;33m\u001b[0m\u001b[0m\n\u001b[1;32m---> 11\u001b[1;33m         \u001b[0mx1\u001b[0m \u001b[1;33m=\u001b[0m \u001b[1;33m-\u001b[0m\u001b[1;36m2\u001b[0m\u001b[1;33m*\u001b[0m\u001b[0mq\u001b[0m\u001b[1;33m/\u001b[0m\u001b[1;33m(\u001b[0m\u001b[0mp\u001b[0m \u001b[1;33m+\u001b[0m \u001b[0mdelta\u001b[0m\u001b[1;33m**\u001b[0m\u001b[1;36m0.5\u001b[0m\u001b[1;33m)\u001b[0m\u001b[1;33m\u001b[0m\u001b[1;33m\u001b[0m\u001b[0m\n\u001b[0m\u001b[0;32m     12\u001b[0m         \u001b[0mx2\u001b[0m \u001b[1;33m=\u001b[0m \u001b[1;36m2\u001b[0m\u001b[1;33m*\u001b[0m\u001b[0mq\u001b[0m\u001b[1;33m/\u001b[0m\u001b[1;33m(\u001b[0m\u001b[0mdelta\u001b[0m\u001b[1;33m**\u001b[0m\u001b[1;36m0.5\u001b[0m \u001b[1;33m-\u001b[0m \u001b[0mp\u001b[0m\u001b[1;33m)\u001b[0m\u001b[1;33m\u001b[0m\u001b[1;33m\u001b[0m\u001b[0m\n\u001b[0;32m     13\u001b[0m         \u001b[0mprint\u001b[0m\u001b[1;33m(\u001b[0m\u001b[1;34m\"x1 = {:.20f} si x2 = {:.20f}\"\u001b[0m\u001b[1;33m.\u001b[0m\u001b[0mformat\u001b[0m\u001b[1;33m(\u001b[0m\u001b[0mx1\u001b[0m\u001b[1;33m,\u001b[0m\u001b[0mx2\u001b[0m\u001b[1;33m)\u001b[0m\u001b[1;33m)\u001b[0m\u001b[1;33m\u001b[0m\u001b[1;33m\u001b[0m\u001b[0m\n",
      "\u001b[1;31mZeroDivisionError\u001b[0m: float division by zero"
     ]
    }
   ],
   "source": [
    "#(a)\n",
    "def ec_grad2(p, q):\n",
    "    delta = p**2 - 4*q\n",
    "    if delta < 0:\n",
    "        print(\"Nu avem soluții reale\")\n",
    "    elif delta == 0:\n",
    "        x = -p/2\n",
    "        print(\"x1 = x2 = {:.20f}\".format(x))\n",
    "    else:\n",
    "        x1 = -2*q/(p + delta**0.5)\n",
    "        x2 = 2*q/(delta**0.5 - p)\n",
    "        print(\"x1 = {:.20f} si x2 = {:.20f}\".format(x1,x2))\n",
    "#(b)\n",
    "ec_grad2(4,5)\n",
    "\n",
    "#(c)\n",
    "ec_grad2(-4,4)\n",
    "\n",
    "#(d)\n",
    "ec_grad2(1,-6)\n",
    "\n",
    "#(e)\n",
    "p1 = -10**9 + 2*10**(-9)\n",
    "ec_grad2(p1,-2)\n",
    "\n",
    "#(f)\n",
    "p2 = 10**200-1\n",
    "q2 = -10**200\n",
    "ec_grad2(p2, q2)"
   ]
  },
  {
   "cell_type": "markdown",
   "id": "f0349ae8",
   "metadata": {},
   "source": [
    "EX#2"
   ]
  },
  {
   "cell_type": "code",
   "execution_count": 8,
   "id": "812b6f8d",
   "metadata": {},
   "outputs": [
    {
     "name": "stdout",
     "output_type": "stream",
     "text": [
      "1.00e-01\t 6.00000e+00\t 6.10000\t 1.0000e-01\n",
      "1.00e-02\t 6.00000e+00\t 6.01000\t 1.0000e-02\n",
      "1.00e-03\t 6.00000e+00\t 6.00100\t 1.0000e-03\n",
      "1.00e-04\t 6.00000e+00\t 6.00010\t 1.0000e-04\n",
      "1.00e-05\t 6.00000e+00\t 6.00001\t 1.0000e-05\n",
      "1.00e-06\t 6.00000e+00\t 6.00000\t 1.0009e-06\n",
      "1.00e-07\t 6.00000e+00\t 6.00000\t 8.7880e-08\n",
      "1.00e-08\t 6.00000e+00\t 6.00000\t 3.6465e-08\n",
      "1.00e-09\t 6.00000e+00\t 6.00000\t 4.9644e-07\n",
      "1.00e-10\t 6.00000e+00\t 6.00000\t 4.9644e-07\n",
      "1.00e-11\t 6.00000e+00\t 6.00000\t 4.9644e-07\n",
      "1.00e-12\t 6.00000e+00\t 6.00053\t 5.3340e-04\n",
      "1.00e-13\t 6.00000e+00\t 6.00409\t 4.0861e-03\n",
      "1.00e-14\t 6.00000e+00\t 6.03961\t 3.9613e-02\n",
      "1.00e-15\t 6.00000e+00\t 5.32907\t 6.7093e-01\n",
      "1.00e-16\t 6.00000e+00\t 0.00000\t 6.0000e+00\n",
      "1.00e-17\t 6.00000e+00\t 0.00000\t 6.0000e+00\n",
      "1.00e-18\t 6.00000e+00\t 0.00000\t 6.0000e+00\n",
      "1.00e-19\t 6.00000e+00\t 0.00000\t 6.0000e+00\n",
      "1.00e-20\t 6.00000e+00\t 0.00000\t 6.0000e+00\n"
     ]
    }
   ],
   "source": [
    "for i in range(1,21):\n",
    "    x = 2\n",
    "    h = 10**(-i)\n",
    "    d_ex = 2*x + 2\n",
    "    d_num = ((x+h)**2 + 2*(x+h)-3 - (x**2 +2*x-3))/h\n",
    "    err_abs = abs(d_ex - d_num)\n",
    "    print(\"{:.2e}\\t {:.5e}\\t {:.5f}\\t {:.4e}\".format(h, d_ex, d_num, err_abs))"
   ]
  },
  {
   "cell_type": "markdown",
   "id": "92c12ba0",
   "metadata": {},
   "source": [
    "EX#3"
   ]
  },
  {
   "cell_type": "code",
   "execution_count": 9,
   "id": "d84f9a31",
   "metadata": {},
   "outputs": [
    {
     "name": "stdout",
     "output_type": "stream",
     "text": [
      "1.00e-01\t 6.00000e+00\t 5.90000\t 1.0000e-01\n",
      "1.00e-02\t 6.00000e+00\t 5.99000\t 1.0000e-02\n",
      "1.00e-03\t 6.00000e+00\t 5.99900\t 1.0000e-03\n",
      "1.00e-04\t 6.00000e+00\t 5.99990\t 1.0000e-04\n",
      "1.00e-05\t 6.00000e+00\t 5.99999\t 1.0000e-05\n",
      "1.00e-06\t 6.00000e+00\t 6.00000\t 1.0010e-06\n",
      "1.00e-07\t 6.00000e+00\t 6.00000\t 9.8637e-08\n",
      "1.00e-08\t 6.00000e+00\t 6.00000\t 3.6465e-08\n",
      "1.00e-09\t 6.00000e+00\t 6.00000\t 4.9644e-07\n",
      "1.00e-10\t 6.00000e+00\t 6.00000\t 4.9644e-07\n",
      "1.00e-11\t 6.00000e+00\t 6.00000\t 4.9644e-07\n",
      "1.00e-12\t 6.00000e+00\t 6.00053\t 5.3340e-04\n",
      "1.00e-13\t 6.00000e+00\t 5.99520\t 4.7957e-03\n",
      "1.00e-14\t 6.00000e+00\t 6.03961\t 3.9613e-02\n",
      "1.00e-15\t 6.00000e+00\t 7.10543\t 1.1054e+00\n",
      "1.00e-16\t 6.00000e+00\t 0.00000\t 6.0000e+00\n",
      "1.00e-17\t 6.00000e+00\t 0.00000\t 6.0000e+00\n",
      "1.00e-18\t 6.00000e+00\t 0.00000\t 6.0000e+00\n",
      "1.00e-19\t 6.00000e+00\t 0.00000\t 6.0000e+00\n",
      "1.00e-20\t 6.00000e+00\t 0.00000\t 6.0000e+00\n"
     ]
    }
   ],
   "source": [
    "for i in range(1,21):\n",
    "    x = 2\n",
    "    h = 10**(-i)\n",
    "    d_ex = 2*x + 2\n",
    "    d_num = ((x**2 +2*x-3) - ((x-h)**2 + 2*(x-h)-3 ))/h\n",
    "    err_abs = abs(d_ex - d_num)\n",
    "    print(\"{:.2e}\\t {:.5e}\\t {:.5f}\\t {:.4e}\".format(h, d_ex, d_num, err_abs))"
   ]
  },
  {
   "cell_type": "markdown",
   "id": "735516d8",
   "metadata": {},
   "source": [
    "EX#4"
   ]
  },
  {
   "cell_type": "code",
   "execution_count": 11,
   "id": "948b280a",
   "metadata": {},
   "outputs": [
    {
     "ename": "UnboundLocalError",
     "evalue": "local variable 'suma' referenced before assignment",
     "output_type": "error",
     "traceback": [
      "\u001b[1;31m---------------------------------------------------------------------------\u001b[0m",
      "\u001b[1;31mUnboundLocalError\u001b[0m                         Traceback (most recent call last)",
      "\u001b[1;32m<ipython-input-11-d5de6774a84d>\u001b[0m in \u001b[0;36m<module>\u001b[1;34m\u001b[0m\n\u001b[0;32m      6\u001b[0m         \u001b[0mtermen\u001b[0m \u001b[1;33m=\u001b[0m \u001b[0mtermen\u001b[0m\u001b[1;33m*\u001b[0m\u001b[1;33m(\u001b[0m\u001b[0mx\u001b[0m\u001b[1;33m/\u001b[0m\u001b[0mk\u001b[0m\u001b[1;33m)\u001b[0m\u001b[1;33m\u001b[0m\u001b[1;33m\u001b[0m\u001b[0m\n\u001b[0;32m      7\u001b[0m \u001b[1;33m\u001b[0m\u001b[0m\n\u001b[1;32m----> 8\u001b[1;33m \u001b[0mserie\u001b[0m\u001b[1;33m(\u001b[0m\u001b[1;36m10\u001b[0m\u001b[1;33m)\u001b[0m\u001b[1;33m\u001b[0m\u001b[1;33m\u001b[0m\u001b[0m\n\u001b[0m",
      "\u001b[1;32m<ipython-input-11-d5de6774a84d>\u001b[0m in \u001b[0;36mserie\u001b[1;34m(x)\u001b[0m\n\u001b[0;32m      3\u001b[0m \u001b[1;32mdef\u001b[0m \u001b[0mserie\u001b[0m\u001b[1;33m(\u001b[0m\u001b[0mx\u001b[0m\u001b[1;33m)\u001b[0m\u001b[1;33m:\u001b[0m\u001b[1;33m\u001b[0m\u001b[1;33m\u001b[0m\u001b[0m\n\u001b[0;32m      4\u001b[0m     \u001b[1;32mfor\u001b[0m \u001b[0mk\u001b[0m \u001b[1;32min\u001b[0m \u001b[0mrange\u001b[0m \u001b[1;33m(\u001b[0m\u001b[1;36m1\u001b[0m\u001b[1;33m,\u001b[0m\u001b[1;36m30\u001b[0m\u001b[1;33m)\u001b[0m\u001b[1;33m:\u001b[0m\u001b[1;33m\u001b[0m\u001b[1;33m\u001b[0m\u001b[0m\n\u001b[1;32m----> 5\u001b[1;33m         \u001b[0msuma\u001b[0m \u001b[1;33m=\u001b[0m \u001b[0msuma\u001b[0m \u001b[1;33m+\u001b[0m \u001b[0mtermen\u001b[0m\u001b[1;33m\u001b[0m\u001b[1;33m\u001b[0m\u001b[0m\n\u001b[0m\u001b[0;32m      6\u001b[0m         \u001b[0mtermen\u001b[0m \u001b[1;33m=\u001b[0m \u001b[0mtermen\u001b[0m\u001b[1;33m*\u001b[0m\u001b[1;33m(\u001b[0m\u001b[0mx\u001b[0m\u001b[1;33m/\u001b[0m\u001b[0mk\u001b[0m\u001b[1;33m)\u001b[0m\u001b[1;33m\u001b[0m\u001b[1;33m\u001b[0m\u001b[0m\n\u001b[0;32m      7\u001b[0m \u001b[1;33m\u001b[0m\u001b[0m\n",
      "\u001b[1;31mUnboundLocalError\u001b[0m: local variable 'suma' referenced before assignment"
     ]
    }
   ],
   "source": [
    "import math\n",
    "termen = 1\n",
    "def serie(x):\n",
    "    for k in range (1,30):\n",
    "        suma = suma + termen\n",
    "        termen = termen*(x/k)\n",
    "\n",
    "serie(10)"
   ]
  },
  {
   "cell_type": "code",
   "execution_count": null,
   "id": "b53d5c4b",
   "metadata": {},
   "outputs": [],
   "source": []
  }
 ],
 "metadata": {
  "kernelspec": {
   "display_name": "Python 3",
   "language": "python",
   "name": "python3"
  },
  "language_info": {
   "codemirror_mode": {
    "name": "ipython",
    "version": 3
   },
   "file_extension": ".py",
   "mimetype": "text/x-python",
   "name": "python",
   "nbconvert_exporter": "python",
   "pygments_lexer": "ipython3",
   "version": "3.8.8"
  }
 },
 "nbformat": 4,
 "nbformat_minor": 5
}
