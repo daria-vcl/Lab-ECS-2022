{
 "cells": [
  {
   "cell_type": "markdown",
   "id": "42ffff88",
   "metadata": {},
   "source": [
    "EX#1 Scrieți un program în Python care determină și afișează precizia mașinii, formatată ca număr scris sub formă științifică cu 4 zecimale și notată cu eps."
   ]
  },
  {
   "cell_type": "code",
   "execution_count": 8,
   "id": "45674f8c",
   "metadata": {},
   "outputs": [
    {
     "name": "stdout",
     "output_type": "stream",
     "text": [
      "n=0\\:t e=1.0000e+00\n",
      "n=1\\:t e=5.0000e-01\n",
      "n=2\\:t e=2.5000e-01\n",
      "n=3\\:t e=1.2500e-01\n",
      "n=4\\:t e=6.2500e-02\n",
      "n=5\\:t e=3.1250e-02\n",
      "n=6\\:t e=1.5625e-02\n",
      "n=7\\:t e=7.8125e-03\n",
      "n=8\\:t e=3.9062e-03\n",
      "n=9\\:t e=1.9531e-03\n",
      "n=10\\:t e=9.7656e-04\n",
      "n=11\\:t e=4.8828e-04\n",
      "n=12\\:t e=2.4414e-04\n",
      "n=13\\:t e=1.2207e-04\n",
      "n=14\\:t e=6.1035e-05\n",
      "n=15\\:t e=3.0518e-05\n",
      "n=16\\:t e=1.5259e-05\n",
      "n=17\\:t e=7.6294e-06\n",
      "n=18\\:t e=3.8147e-06\n",
      "n=19\\:t e=1.9073e-06\n",
      "n=20\\:t e=9.5367e-07\n",
      "n=21\\:t e=4.7684e-07\n",
      "n=22\\:t e=2.3842e-07\n",
      "n=23\\:t e=1.1921e-07\n",
      "n=24\\:t e=5.9605e-08\n",
      "n=25\\:t e=2.9802e-08\n",
      "n=26\\:t e=1.4901e-08\n",
      "n=27\\:t e=7.4506e-09\n",
      "n=28\\:t e=3.7253e-09\n",
      "n=29\\:t e=1.8626e-09\n",
      "n=30\\:t e=9.3132e-10\n",
      "n=31\\:t e=4.6566e-10\n",
      "n=32\\:t e=2.3283e-10\n",
      "n=33\\:t e=1.1642e-10\n",
      "n=34\\:t e=5.8208e-11\n",
      "n=35\\:t e=2.9104e-11\n",
      "n=36\\:t e=1.4552e-11\n",
      "n=37\\:t e=7.2760e-12\n",
      "n=38\\:t e=3.6380e-12\n",
      "n=39\\:t e=1.8190e-12\n",
      "n=40\\:t e=9.0949e-13\n",
      "n=41\\:t e=4.5475e-13\n",
      "n=42\\:t e=2.2737e-13\n",
      "n=43\\:t e=1.1369e-13\n",
      "n=44\\:t e=5.6843e-14\n",
      "n=45\\:t e=2.8422e-14\n",
      "n=46\\:t e=1.4211e-14\n",
      "n=47\\:t e=7.1054e-15\n",
      "n=48\\:t e=3.5527e-15\n",
      "n=49\\:t e=1.7764e-15\n",
      "n=50\\:t e=8.8818e-16\n",
      "n=51\\:t e=4.4409e-16\n",
      "n=52\\:t e=2.2204e-16\n"
     ]
    }
   ],
   "source": [
    "e = 1.0\n",
    "n = 0 \n",
    "while (1+e)>1:\n",
    "    print(\"n={:d}\\:t e={:.4e}\".format(n,e))\n",
    "    n = n+1\n",
    "    e = e/2"
   ]
  },
  {
   "cell_type": "markdown",
   "id": "040b20a1",
   "metadata": {},
   "source": [
    "EX#2 Scrieți un program în Python care calculează și afișează în virgulă mobilă cu 16 de zecimale, pentru n ∈ {0, 1, 2, . . . , 10}, numărul x = 1/n și rezultatul următoarelor operații (n + 1) x − 1 (1) obținute după k ∈ {10, 20, 30} repetări. Comentați rezultatele obținute."
   ]
  },
  {
   "cell_type": "code",
   "execution_count": 9,
   "id": "9299d0e2",
   "metadata": {},
   "outputs": [
    {
     "name": "stdout",
     "output_type": "stream",
     "text": [
      "k=0 x = 0.33333333333333325932\n",
      "k=1 x = 0.33333333333333303727\n",
      "k=2 x = 0.33333333333333214910\n",
      "k=3 x = 0.33333333333332859638\n",
      "k=4 x = 0.33333333333331438553\n",
      "k=5 x = 0.33333333333325754211\n",
      "k=6 x = 0.33333333333303016843\n",
      "k=7 x = 0.33333333333212067373\n",
      "k=8 x = 0.33333333332848269492\n",
      "k=9 x = 0.33333333331393077970\n",
      "k=10 x = 0.33333333325572311878\n",
      "k=11 x = 0.33333333302289247513\n",
      "k=12 x = 0.33333333209156990051\n",
      "k=13 x = 0.33333332836627960205\n",
      "k=14 x = 0.33333331346511840820\n",
      "k=15 x = 0.33333325386047363281\n",
      "k=16 x = 0.33333301544189453125\n",
      "k=17 x = 0.33333206176757812500\n",
      "k=18 x = 0.33332824707031250000\n",
      "k=19 x = 0.33331298828125000000\n",
      "k=20 x = 0.33325195312500000000\n",
      "k=21 x = 0.33300781250000000000\n",
      "k=22 x = 0.33203125000000000000\n",
      "k=23 x = 0.32812500000000000000\n",
      "k=24 x = 0.31250000000000000000\n",
      "k=25 x = 0.25000000000000000000\n",
      "k=26 x = 0.00000000000000000000\n",
      "k=27 x = -1.00000000000000000000\n",
      "k=28 x = -5.00000000000000000000\n",
      "k=29 x = -21.00000000000000000000\n"
     ]
    }
   ],
   "source": [
    "def functie(n,k):\n",
    "    x = 1/n\n",
    "    for k in range(k):\n",
    "        x = (n+1)*x - 1\n",
    "        print(\"k={:d} x = {:.20f}\".format(k,x))\n",
    "        \n",
    "        \n",
    "functie(3,30)"
   ]
  },
  {
   "cell_type": "markdown",
   "id": "a52c1709",
   "metadata": {},
   "source": [
    "EX#3 Sume partiale"
   ]
  },
  {
   "cell_type": "code",
   "execution_count": 13,
   "id": "49eff141",
   "metadata": {},
   "outputs": [
    {
     "ename": "NameError",
     "evalue": "name 'x' is not defined",
     "output_type": "error",
     "traceback": [
      "\u001b[1;31m---------------------------------------------------------------------------\u001b[0m",
      "\u001b[1;31mNameError\u001b[0m                                 Traceback (most recent call last)",
      "\u001b[1;32m<ipython-input-13-79d8b2e43898>\u001b[0m in \u001b[0;36m<module>\u001b[1;34m\u001b[0m\n\u001b[0;32m      6\u001b[0m     \u001b[0msuma_init\u001b[0m \u001b[1;33m=\u001b[0m \u001b[0msuma\u001b[0m\u001b[1;33m\u001b[0m\u001b[1;33m\u001b[0m\u001b[0m\n\u001b[0;32m      7\u001b[0m     \u001b[0msuma\u001b[0m \u001b[1;33m=\u001b[0m \u001b[0msuma_init\u001b[0m \u001b[1;33m+\u001b[0m \u001b[0mtermen\u001b[0m\u001b[1;33m\u001b[0m\u001b[1;33m\u001b[0m\u001b[0m\n\u001b[1;32m----> 8\u001b[1;33m     \u001b[0mtermen\u001b[0m \u001b[1;33m=\u001b[0m \u001b[1;33m-\u001b[0m\u001b[0mtermen\u001b[0m\u001b[1;33m*\u001b[0m\u001b[1;33m(\u001b[0m\u001b[0mx\u001b[0m\u001b[1;33m**\u001b[0m\u001b[1;36m2\u001b[0m\u001b[1;33m)\u001b[0m\u001b[1;33m/\u001b[0m\u001b[1;33m(\u001b[0m\u001b[1;36m2\u001b[0m\u001b[1;33m*\u001b[0m\u001b[0mk\u001b[0m\u001b[1;33m*\u001b[0m\u001b[1;33m(\u001b[0m\u001b[1;36m2\u001b[0m\u001b[1;33m*\u001b[0m\u001b[0mk\u001b[0m\u001b[1;33m+\u001b[0m\u001b[1;36m1\u001b[0m\u001b[1;33m)\u001b[0m\u001b[1;33m)\u001b[0m\u001b[1;33m\u001b[0m\u001b[1;33m\u001b[0m\u001b[0m\n\u001b[0m\u001b[0;32m      9\u001b[0m     \u001b[0meroare_abs\u001b[0m \u001b[1;33m=\u001b[0m \u001b[0mabs\u001b[0m\u001b[1;33m(\u001b[0m\u001b[0msuma\u001b[0m \u001b[1;33m-\u001b[0m \u001b[0msuma_init\u001b[0m\u001b[1;33m)\u001b[0m\u001b[1;33m\u001b[0m\u001b[1;33m\u001b[0m\u001b[0m\n\u001b[0;32m     10\u001b[0m     \u001b[0mprint\u001b[0m\u001b[1;33m(\u001b[0m\u001b[1;34m\"La pasul k = {:d}\\t suma = {:.20f}\\t eroare_abs = {:.4e}\"\u001b[0m\u001b[1;33m.\u001b[0m\u001b[0mformat\u001b[0m\u001b[1;33m(\u001b[0m\u001b[0mk\u001b[0m\u001b[1;33m,\u001b[0m \u001b[0msuma\u001b[0m\u001b[1;33m,\u001b[0m \u001b[0meroare_abs\u001b[0m\u001b[1;33m)\u001b[0m\u001b[1;33m)\u001b[0m\u001b[1;33m\u001b[0m\u001b[1;33m\u001b[0m\u001b[0m\n",
      "\u001b[1;31mNameError\u001b[0m: name 'x' is not defined"
     ]
    }
   ],
   "source": [
    "n = 100\n",
    "suma = 0 \n",
    "termen = 1\n",
    "\n",
    "for k in range (n+1):\n",
    "    suma_init = suma\n",
    "    suma = suma_init + termen\n",
    "    termen = -termen*(x**2)/(2*k*(2*k+1))\n",
    "    eroare_abs = abs(suma - suma_init)\n",
    "    print(\"La pasul k = {:d}\\t suma = {:.20f}\\t eroare_abs = {:.4e}\".format(k, suma, eroare_abs))"
   ]
  },
  {
   "cell_type": "markdown",
   "id": "95a07a45",
   "metadata": {},
   "source": [
    "EX#5  "
   ]
  },
  {
   "cell_type": "code",
   "execution_count": 12,
   "id": "d1a63b98",
   "metadata": {},
   "outputs": [
    {
     "name": "stdout",
     "output_type": "stream",
     "text": [
      "La pasul k = 0\t suma = 1.00000000000000000000\t eroare_abs = 5.0000e-01\n",
      "La pasul k = 1\t suma = 1.33333333333333325932\t eroare_abs = 1.6667e-01\n",
      "La pasul k = 2\t suma = 1.44444444444444441977\t eroare_abs = 5.5556e-02\n",
      "La pasul k = 3\t suma = 1.48148148148148139924\t eroare_abs = 1.8519e-02\n",
      "La pasul k = 4\t suma = 1.49382716049382713308\t eroare_abs = 6.1728e-03\n",
      "La pasul k = 5\t suma = 1.49794238683127578504\t eroare_abs = 2.0576e-03\n",
      "La pasul k = 6\t suma = 1.49931412894375859501\t eroare_abs = 6.8587e-04\n",
      "La pasul k = 7\t suma = 1.49977137631458612432\t eroare_abs = 2.2862e-04\n",
      "La pasul k = 8\t suma = 1.49992379210486204144\t eroare_abs = 7.6208e-05\n",
      "La pasul k = 9\t suma = 1.49997459736828742116\t eroare_abs = 2.5403e-05\n",
      "La pasul k = 10\t suma = 1.49999153245609595508\t eroare_abs = 8.4675e-06\n",
      "La pasul k = 11\t suma = 1.49999717748536554041\t eroare_abs = 2.8225e-06\n",
      "La pasul k = 12\t suma = 1.49999905916178866150\t eroare_abs = 9.4084e-07\n",
      "La pasul k = 13\t suma = 1.49999968638726310921\t eroare_abs = 3.1361e-07\n",
      "La pasul k = 14\t suma = 1.49999989546242118443\t eroare_abs = 1.0454e-07\n",
      "La pasul k = 15\t suma = 1.49999996515414046883\t eroare_abs = 3.4846e-08\n",
      "La pasul k = 16\t suma = 1.49999998838471348961\t eroare_abs = 1.1615e-08\n",
      "La pasul k = 17\t suma = 1.49999999612823775585\t eroare_abs = 3.8718e-09\n",
      "La pasul k = 18\t suma = 1.49999999870941258528\t eroare_abs = 1.2906e-09\n",
      "La pasul k = 19\t suma = 1.49999999956980412108\t eroare_abs = 4.3020e-10\n",
      "La pasul k = 20\t suma = 1.49999999985660137369\t eroare_abs = 1.4340e-10\n",
      "La pasul k = 21\t suma = 1.49999999995220045790\t eroare_abs = 4.7800e-11\n",
      "La pasul k = 22\t suma = 1.49999999998406674528\t eroare_abs = 1.5933e-11\n",
      "La pasul k = 23\t suma = 1.49999999999468891509\t eroare_abs = 5.3111e-12\n",
      "La pasul k = 24\t suma = 1.49999999999822963836\t eroare_abs = 1.7704e-12\n",
      "La pasul k = 25\t suma = 1.49999999999940980544\t eroare_abs = 5.9019e-13\n",
      "La pasul k = 26\t suma = 1.49999999999980326848\t eroare_abs = 1.9673e-13\n",
      "La pasul k = 27\t suma = 1.49999999999993449684\t eroare_abs = 6.5503e-14\n",
      "La pasul k = 28\t suma = 1.49999999999997823963\t eroare_abs = 2.1760e-14\n",
      "La pasul k = 29\t suma = 1.49999999999999289457\t eroare_abs = 7.1054e-15\n",
      "La pasul k = 30\t suma = 1.49999999999999777955\t eroare_abs = 2.2204e-15\n",
      "La pasul k = 31\t suma = 1.49999999999999933387\t eroare_abs = 6.6613e-16\n",
      "La pasul k = 32\t suma = 1.49999999999999977796\t eroare_abs = 2.2204e-16\n",
      "La pasul k = 33\t suma = 1.50000000000000000000\t eroare_abs = 0.0000e+00\n",
      "La pasul k = 34\t suma = 1.50000000000000000000\t eroare_abs = 0.0000e+00\n",
      "La pasul k = 35\t suma = 1.50000000000000000000\t eroare_abs = 0.0000e+00\n",
      "La pasul k = 36\t suma = 1.50000000000000000000\t eroare_abs = 0.0000e+00\n",
      "La pasul k = 37\t suma = 1.50000000000000000000\t eroare_abs = 0.0000e+00\n",
      "La pasul k = 38\t suma = 1.50000000000000000000\t eroare_abs = 0.0000e+00\n",
      "La pasul k = 39\t suma = 1.50000000000000000000\t eroare_abs = 0.0000e+00\n",
      "La pasul k = 40\t suma = 1.50000000000000000000\t eroare_abs = 0.0000e+00\n",
      "La pasul k = 41\t suma = 1.50000000000000000000\t eroare_abs = 0.0000e+00\n",
      "La pasul k = 42\t suma = 1.50000000000000000000\t eroare_abs = 0.0000e+00\n",
      "La pasul k = 43\t suma = 1.50000000000000000000\t eroare_abs = 0.0000e+00\n",
      "La pasul k = 44\t suma = 1.50000000000000000000\t eroare_abs = 0.0000e+00\n",
      "La pasul k = 45\t suma = 1.50000000000000000000\t eroare_abs = 0.0000e+00\n",
      "La pasul k = 46\t suma = 1.50000000000000000000\t eroare_abs = 0.0000e+00\n",
      "La pasul k = 47\t suma = 1.50000000000000000000\t eroare_abs = 0.0000e+00\n",
      "La pasul k = 48\t suma = 1.50000000000000000000\t eroare_abs = 0.0000e+00\n",
      "La pasul k = 49\t suma = 1.50000000000000000000\t eroare_abs = 0.0000e+00\n",
      "La pasul k = 50\t suma = 1.50000000000000000000\t eroare_abs = 0.0000e+00\n",
      "La pasul k = 51\t suma = 1.50000000000000000000\t eroare_abs = 0.0000e+00\n",
      "La pasul k = 52\t suma = 1.50000000000000000000\t eroare_abs = 0.0000e+00\n",
      "La pasul k = 53\t suma = 1.50000000000000000000\t eroare_abs = 0.0000e+00\n",
      "La pasul k = 54\t suma = 1.50000000000000000000\t eroare_abs = 0.0000e+00\n",
      "La pasul k = 55\t suma = 1.50000000000000000000\t eroare_abs = 0.0000e+00\n",
      "La pasul k = 56\t suma = 1.50000000000000000000\t eroare_abs = 0.0000e+00\n",
      "La pasul k = 57\t suma = 1.50000000000000000000\t eroare_abs = 0.0000e+00\n",
      "La pasul k = 58\t suma = 1.50000000000000000000\t eroare_abs = 0.0000e+00\n",
      "La pasul k = 59\t suma = 1.50000000000000000000\t eroare_abs = 0.0000e+00\n",
      "La pasul k = 60\t suma = 1.50000000000000000000\t eroare_abs = 0.0000e+00\n",
      "La pasul k = 61\t suma = 1.50000000000000000000\t eroare_abs = 0.0000e+00\n",
      "La pasul k = 62\t suma = 1.50000000000000000000\t eroare_abs = 0.0000e+00\n",
      "La pasul k = 63\t suma = 1.50000000000000000000\t eroare_abs = 0.0000e+00\n",
      "La pasul k = 64\t suma = 1.50000000000000000000\t eroare_abs = 0.0000e+00\n",
      "La pasul k = 65\t suma = 1.50000000000000000000\t eroare_abs = 0.0000e+00\n",
      "La pasul k = 66\t suma = 1.50000000000000000000\t eroare_abs = 0.0000e+00\n",
      "La pasul k = 67\t suma = 1.50000000000000000000\t eroare_abs = 0.0000e+00\n",
      "La pasul k = 68\t suma = 1.50000000000000000000\t eroare_abs = 0.0000e+00\n",
      "La pasul k = 69\t suma = 1.50000000000000000000\t eroare_abs = 0.0000e+00\n",
      "La pasul k = 70\t suma = 1.50000000000000000000\t eroare_abs = 0.0000e+00\n",
      "La pasul k = 71\t suma = 1.50000000000000000000\t eroare_abs = 0.0000e+00\n",
      "La pasul k = 72\t suma = 1.50000000000000000000\t eroare_abs = 0.0000e+00\n",
      "La pasul k = 73\t suma = 1.50000000000000000000\t eroare_abs = 0.0000e+00\n",
      "La pasul k = 74\t suma = 1.50000000000000000000\t eroare_abs = 0.0000e+00\n",
      "La pasul k = 75\t suma = 1.50000000000000000000\t eroare_abs = 0.0000e+00\n",
      "La pasul k = 76\t suma = 1.50000000000000000000\t eroare_abs = 0.0000e+00\n",
      "La pasul k = 77\t suma = 1.50000000000000000000\t eroare_abs = 0.0000e+00\n",
      "La pasul k = 78\t suma = 1.50000000000000000000\t eroare_abs = 0.0000e+00\n",
      "La pasul k = 79\t suma = 1.50000000000000000000\t eroare_abs = 0.0000e+00\n",
      "La pasul k = 80\t suma = 1.50000000000000000000\t eroare_abs = 0.0000e+00\n",
      "La pasul k = 81\t suma = 1.50000000000000000000\t eroare_abs = 0.0000e+00\n",
      "La pasul k = 82\t suma = 1.50000000000000000000\t eroare_abs = 0.0000e+00\n",
      "La pasul k = 83\t suma = 1.50000000000000000000\t eroare_abs = 0.0000e+00\n",
      "La pasul k = 84\t suma = 1.50000000000000000000\t eroare_abs = 0.0000e+00\n",
      "La pasul k = 85\t suma = 1.50000000000000000000\t eroare_abs = 0.0000e+00\n",
      "La pasul k = 86\t suma = 1.50000000000000000000\t eroare_abs = 0.0000e+00\n",
      "La pasul k = 87\t suma = 1.50000000000000000000\t eroare_abs = 0.0000e+00\n",
      "La pasul k = 88\t suma = 1.50000000000000000000\t eroare_abs = 0.0000e+00\n",
      "La pasul k = 89\t suma = 1.50000000000000000000\t eroare_abs = 0.0000e+00\n",
      "La pasul k = 90\t suma = 1.50000000000000000000\t eroare_abs = 0.0000e+00\n",
      "La pasul k = 91\t suma = 1.50000000000000000000\t eroare_abs = 0.0000e+00\n",
      "La pasul k = 92\t suma = 1.50000000000000000000\t eroare_abs = 0.0000e+00\n",
      "La pasul k = 93\t suma = 1.50000000000000000000\t eroare_abs = 0.0000e+00\n",
      "La pasul k = 94\t suma = 1.50000000000000000000\t eroare_abs = 0.0000e+00\n",
      "La pasul k = 95\t suma = 1.50000000000000000000\t eroare_abs = 0.0000e+00\n",
      "La pasul k = 96\t suma = 1.50000000000000000000\t eroare_abs = 0.0000e+00\n",
      "La pasul k = 97\t suma = 1.50000000000000000000\t eroare_abs = 0.0000e+00\n",
      "La pasul k = 98\t suma = 1.50000000000000000000\t eroare_abs = 0.0000e+00\n",
      "La pasul k = 99\t suma = 1.50000000000000000000\t eroare_abs = 0.0000e+00\n",
      "La pasul k = 100\t suma = 1.50000000000000000000\t eroare_abs = 0.0000e+00\n"
     ]
    }
   ],
   "source": [
    "n = 100\n",
    "suma = 0 \n",
    "termen = 1\n",
    "\n",
    "for k in range (n+1):\n",
    "    suma = suma + termen\n",
    "    termen = termen/3\n",
    "    eroare_abs = abs(suma - 1.5)\n",
    "    print(\"La pasul k = {:d}\\t suma = {:.20f}\\t eroare_abs = {:.4e}\".format(k, suma, eroare_abs))\n",
    "          "
   ]
  },
  {
   "cell_type": "code",
   "execution_count": null,
   "id": "dfe59739",
   "metadata": {},
   "outputs": [],
   "source": []
  }
 ],
 "metadata": {
  "kernelspec": {
   "display_name": "Python 3",
   "language": "python",
   "name": "python3"
  },
  "language_info": {
   "codemirror_mode": {
    "name": "ipython",
    "version": 3
   },
   "file_extension": ".py",
   "mimetype": "text/x-python",
   "name": "python",
   "nbconvert_exporter": "python",
   "pygments_lexer": "ipython3",
   "version": "3.8.8"
  }
 },
 "nbformat": 4,
 "nbformat_minor": 5
}
